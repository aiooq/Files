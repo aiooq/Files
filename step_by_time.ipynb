{
  "nbformat": 4,
  "nbformat_minor": 0,
  "metadata": {
    "colab": {
      "provenance": [],
      "authorship_tag": "ABX9TyP5Sp+Cc/ypvPccGxclicbb",
      "include_colab_link": true
    },
    "kernelspec": {
      "name": "python3",
      "display_name": "Python 3"
    },
    "language_info": {
      "name": "python"
    }
  },
  "cells": [
    {
      "cell_type": "markdown",
      "metadata": {
        "id": "view-in-github",
        "colab_type": "text"
      },
      "source": [
        "<a href=\"https://colab.research.google.com/github/aiooq/Files/blob/master/step_by_time.ipynb\" target=\"_parent\"><img src=\"https://colab.research.google.com/assets/colab-badge.svg\" alt=\"Open In Colab\"/></a>"
      ]
    },
    {
      "cell_type": "code",
      "execution_count": 58,
      "metadata": {
        "id": "m8KZtf7MCgxy"
      },
      "outputs": [],
      "source": [
        "import time\n",
        "from datetime import datetime, timedelta\n",
        "\n",
        "def get_next_time(now, minutes):\n",
        "    return now + timedelta(minutes=minutes)\n",
        "\n",
        "def is_time(time):\n",
        "    return datetime.now() >= time"
      ]
    },
    {
      "cell_type": "code",
      "source": [
        "now = datetime.now()\n",
        "next_time = get_next_time(now, 1)\n",
        "\n",
        "print('now: ',now)\n",
        "print('next: ',next_time)\n",
        "\n",
        "while not is_time(next_time):\n",
        "    time.sleep(0.001)\n",
        "\n",
        "print('now: ',datetime.now())"
      ],
      "metadata": {
        "colab": {
          "base_uri": "https://localhost:8080/"
        },
        "id": "Bp5CRqXOC4vy",
        "outputId": "605b943a-f1cd-46c1-9307-21e595d47028"
      },
      "execution_count": 59,
      "outputs": [
        {
          "output_type": "stream",
          "name": "stdout",
          "text": [
            "now:  2022-09-07 04:15:20.202305\n",
            "next:  2022-09-07 04:16:20.202305\n",
            "now:  2022-09-07 04:16:20.203251\n"
          ]
        }
      ]
    }
  ]
}