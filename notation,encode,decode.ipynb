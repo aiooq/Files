{
  "nbformat": 4,
  "nbformat_minor": 0,
  "metadata": {
    "colab": {
      "provenance": [],
      "collapsed_sections": [],
      "authorship_tag": "ABX9TyOesaSxR2FxURqF6lyHbqP1",
      "include_colab_link": true
    },
    "kernelspec": {
      "name": "python3",
      "display_name": "Python 3"
    },
    "language_info": {
      "name": "python"
    }
  },
  "cells": [
    {
      "cell_type": "markdown",
      "metadata": {
        "id": "view-in-github",
        "colab_type": "text"
      },
      "source": [
        "<a href=\"https://colab.research.google.com/github/aiooq/Files/blob/master/notation%2Cencode%2Cdecode.ipynb\" target=\"_parent\"><img src=\"https://colab.research.google.com/assets/colab-badge.svg\" alt=\"Open In Colab\"/></a>"
      ]
    },
    {
      "cell_type": "code",
      "execution_count": null,
      "metadata": {
        "id": "dfAf80DLF6Z7"
      },
      "outputs": [],
      "source": [
        "alphabets_in_number=[i for i in range(10)]\n",
        "alphabets_in_capital=[chr(i) for i in range(65,91)]\n",
        "alphabets_in_lowercase=[chr(i) for i in range(97,123)]\n",
        "alphabets = alphabets_in_number + alphabets_in_capital + alphabets_in_lowercase\n",
        "\n",
        "print(alphabets_in_number,len(alphabets_in_number))\n",
        "print(alphabets_in_capital,len(alphabets_in_capital))\n",
        "print(alphabets_in_lowercase,len(alphabets_in_lowercase))\n",
        "print(alphabets,len(alphabets))"
      ]
    },
    {
      "cell_type": "code",
      "source": [
        "print(chr(1114111))"
      ],
      "metadata": {
        "id": "HEyFSaKOGANx"
      },
      "execution_count": null,
      "outputs": []
    },
    {
      "cell_type": "code",
      "source": [
        "alphabets_10 = [str(i) for i in range(10)]\n",
        "alphabets_36 = [str(i) for i in range(10)] + [chr(i) for i in range(97,123)]\n",
        "alphabets_62 = [str(i) for i in range(10)] + [chr(i) for i in range(97,123)] + [chr(i) for i in range(65,91)]\n",
        "alphabets_94 = [str(i) for i in range(10)] + [chr(i) for i in range(97,123)] + [chr(i) for i in range(65,91)] + [chr(i) for i in range(33,65)] + [chr(i) for i in range(91,97)] + [chr(i) for i in range(123,127)]\n",
        "alphabets_full = [chr(i) for i in range(33,1114111)]"
      ],
      "metadata": {
        "id": "wLPItp_HGCn4"
      },
      "execution_count": 4,
      "outputs": []
    },
    {
      "cell_type": "code",
      "source": [
        "def notation(num, base):\n",
        "    if base >= 1114111:\n",
        "      return None\n",
        "\n",
        "    if base < 10:\n",
        "      alphabets = alphabets_10\n",
        "    elif base < 36:\n",
        "      alphabets = alphabets_36\n",
        "    elif base < 62:\n",
        "      alphabets = alphabets_62\n",
        "    elif base < 94:\n",
        "      alphabets = alphabets_94\n",
        "    else:\n",
        "      alphabets = alphabets_full\n",
        "\n",
        "    result =''\n",
        "    while num > 0:\n",
        "      result = str(alphabets[num % base]) + result\n",
        "      num //= base\n",
        "    return result"
      ],
      "metadata": {
        "id": "6UYYiGXzGCDn"
      },
      "execution_count": 6,
      "outputs": []
    },
    {
      "cell_type": "code",
      "source": [
        "print(notation(1234567890123456789012345678901234567890123456789012345678901234,2))\n",
        "print(notation(1234567890123456789012345678901234567890123456789012345678901234,4))\n",
        "print(notation(1234567890123456789012345678901234567890123456789012345678901234,8))\n",
        "print(notation(1234567890123456789012345678901234567890123456789012345678901234,10))\n",
        "print(notation(1234567890123456789012345678901234567890123456789012345678901234,16))\n",
        "print(notation(1234567890123456789012345678901234567890123456789012345678901234,20))\n",
        "print(notation(1234567890123456789012345678901234567890123456789012345678901234,50))\n",
        "print(notation(1234567890123456789012345678901234567890123456789012345678901234,61))\n",
        "print(notation(1234567890123456789012345678901234567890123456789012345678901234,93))\n",
        "print(notation(1234567890123456789012345678901234567890123456789012345678901234,200))\n",
        "print(notation(1234567890123456789012345678901234567890123456789012345678901234,1000))\n",
        "print(notation(1234567890123456789012345678901234567890123456789012345678901234,10000))\n",
        "print(notation(1234567890123456789012345678901234567890123456789012345678901234,20000))\n",
        "print(notation(1234567890123456789012345678901234567890123456789012345678901234,79000))"
      ],
      "metadata": {
        "colab": {
          "base_uri": "https://localhost:8080/"
        },
        "id": "1lXOxAnnIrX6",
        "outputId": "e73e5f71-2676-4ddf-f271-fdde54a2b64f"
      },
      "execution_count": 14,
      "outputs": [
        {
          "output_type": "stream",
          "name": "stdout",
          "text": [
            "110000000001000110000000110000111100100110111101000110001011010111101011000010000110100010011111101011100111010101001111111111111100100011001111000111101011001101000100101101100001111110100101101010111111110010\n",
            "300001012000300330212331012023113223002012202133223213111033333330203033013223031010231201332211222333302\n",
            "6001060060744675061327530206423753472517777443170753150455417645527762\n",
            "1234567890123456789012345678901234567890123456789012345678901234\n",
            "30046030f26f462d7ac21a27eb9d53fff233c7acd12d87e96aff2\n",
            "47e8abif4cad523bab5jb3bb24ia1873cj037cbjef14d2d1e\n",
            "1yFL7ldGNu9Aiqrpf9LzbAkv8JxLpMzE68vaoy\n",
            "41D5AaC1RB4yGNDJglCwR3oYgUgYm2nDKoQe\n",
            "1o8<0lValyB1VxT$DTeI6Xu,v26>PNP/p\n",
            "*H¢Õm\"tPNkØ¨Tæl^¡`*ÍC\n",
            "\"ċɘΛǩ̶-źˇΦċɘΛǩ̶-źˇΦċ\n",
            "ӳᙏ⍕ඡỳӳᙏ⍕ඡỳӳᙏ⍕ඡỳӳ\n",
            "̒⣉㿌㒢ᮬ䴺㌻ٖ➬ᙀ⵵䣣⪑ྊӳ\n",
            "冽銒⵩⣿ﱡ郱偃𐰙ŉ𒠎滻饣\n"
          ]
        }
      ]
    },
    {
      "cell_type": "code",
      "source": [
        "var_in = 'helloworldhelloworldhelloworldhelloworldhelloworldhelloworldhell'\n",
        "print(f\"in[text] len: {len(var_in)} text: {var_in}\")\n",
        "var_bin = ''.join(format(ord(i), '08b') for i in var_in)\n",
        "var_num = int(var_bin, 2)\n",
        "print(f\"bin[2]: {bin(var_num)}\")\n",
        "print(f\"dec[10]: {var_num}\")\n",
        "print(f\"hex[16]: {hex(var_num)}\")\n",
        "var_out = notation(var_num,79000)\n",
        "print(f\"out[79000] len: {len(var_out)} text: {var_out}\")"
      ],
      "metadata": {
        "colab": {
          "base_uri": "https://localhost:8080/"
        },
        "id": "tJ1KKcgjGwpE",
        "outputId": "774c2c8c-fffc-4464-f6e8-07338734a4b6"
      },
      "execution_count": 15,
      "outputs": [
        {
          "output_type": "stream",
          "name": "stdout",
          "text": [
            "in[text] len: 64 text: helloworldhelloworldhelloworldhelloworldhelloworldhelloworldhell\n",
            "bin[2]: 0b1101000011001010110110001101100011011110111011101101111011100100110110001100100011010000110010101101100011011000110111101110111011011110111001001101100011001000110100001100101011011000110110001101111011101110110111101110010011011000110010001101000011001010110110001101100011011110111011101101111011100100110110001100100011010000110010101101100011011000110111101110111011011110111001001101100011001000110100001100101011011000110110001101111011101110110111101110010011011000110010001101000011001010110110001101100\n",
            "dec[10]: 5467671898363546893655524721065614572077210310364173136523332192621499336562048387646014197263616813464702916346245426838799939380360619191411376069635180\n",
            "hex[16]: 0x68656c6c6f776f726c6468656c6c6f776f726c6468656c6c6f776f726c6468656c6c6f776f726c6468656c6c6f776f726c6468656c6c6f776f726c6468656c6c\n",
            "out[79000] len: 32 text: rꙌ𓁔싲⌙ᝳ愝ω䷈뾸𐵆䋮쩒桚掺綢们𐞠𒁗ችᬉ핻𑻎忽풃鍖﮿쎍𐝃酝\n"
          ]
        }
      ]
    },
    {
      "cell_type": "code",
      "source": [
        "import zlib\n",
        " \n",
        "long_text = 'Lorem ipsum dolor sit amet, consectetur adipiscing elit, sed do eiusmod tempor incididunt ut labore et dolore magna aliqua. Ut enim ad minim veniam, quis nostrud exercitation ullamco laboris nisi ut aliquip ex ea commodo consequat. Duis aute irure dolor in reprehenderit in voluptate velit esse cillum dolore eu fugiat nulla pariatur. Excepteur sint occaecat cupidatat non proident, sunt in culpa qui officia deserunt mollit anim id est laborum.'\n",
        " \n",
        "print('long_text', len(long_text))\n",
        " \n",
        "long_text_compressed = zlib.compress(long_text.encode('utf-8'))\n",
        " \n",
        "print('long_text_compressed', len(long_text_compressed))"
      ],
      "metadata": {
        "colab": {
          "base_uri": "https://localhost:8080/"
        },
        "id": "ulnXhpOMJgD-",
        "outputId": "fbf84f61-0016-470d-af3f-b3e7bfa59d9a"
      },
      "execution_count": 16,
      "outputs": [
        {
          "output_type": "stream",
          "name": "stdout",
          "text": [
            "long_text 445\n",
            "long_text_compressed 270\n"
          ]
        }
      ]
    },
    {
      "cell_type": "code",
      "source": [
        "long_text_compressed = zlib.compress(var_in.encode('utf-8'))\n",
        "print('long_text_compressed', len(long_text_compressed))"
      ],
      "metadata": {
        "colab": {
          "base_uri": "https://localhost:8080/"
        },
        "id": "Ke7s-fLmJjxh",
        "outputId": "97c51017-1415-4c40-9765-42ee307270ed"
      },
      "execution_count": 17,
      "outputs": [
        {
          "output_type": "stream",
          "name": "stdout",
          "text": [
            "long_text_compressed 21\n"
          ]
        }
      ]
    },
    {
      "cell_type": "code",
      "source": [
        "words = ['hello','world']\n",
        "var_in_words = var_in\n",
        "for index, value in enumerate(words):\n",
        "    var_in_words = var_in_words.replace(value,str(index))\n",
        "print(var_in_words)"
      ],
      "metadata": {
        "colab": {
          "base_uri": "https://localhost:8080/"
        },
        "id": "D7bIL9WLKfyd",
        "outputId": "7649b1cb-2cd3-4063-cff1-d4f18fb4a926"
      },
      "execution_count": 41,
      "outputs": [
        {
          "output_type": "stream",
          "name": "stdout",
          "text": [
            "010101010101hell\n"
          ]
        }
      ]
    },
    {
      "cell_type": "code",
      "source": [
        "print(f\"in[text] len: {len(var_in_words)} text: {var_in_words}\")\n",
        "var_bin = ''.join(format(ord(i), '08b') for i in var_in_words)\n",
        "var_num = int(var_bin, 2)\n",
        "var_out = notation(var_num,79000)\n",
        "print(f\"out[79000] len: {len(var_out)} text: {var_out}\")"
      ],
      "metadata": {
        "colab": {
          "base_uri": "https://localhost:8080/"
        },
        "id": "MdaS93gGPNsP",
        "outputId": "544d0c61-bffe-4c06-9a55-43d60613bdf7"
      },
      "execution_count": 47,
      "outputs": [
        {
          "output_type": "stream",
          "name": "stdout",
          "text": [
            "in[text] len: 16 text: 010101010101hell\n",
            "out[79000] len: 8 text: ന헷𒥦黛쟨𑿥\n"
          ]
        }
      ]
    },
    {
      "cell_type": "code",
      "source": [
        "long_text_compressed = zlib.compress(var_in_words.encode('utf-8'))\n",
        "print('long_text_compressed', len(long_text_compressed))"
      ],
      "metadata": {
        "colab": {
          "base_uri": "https://localhost:8080/"
        },
        "id": "sj20az5yROeD",
        "outputId": "dec60756-5d9a-4f2a-9186-ec947b70de93"
      },
      "execution_count": 54,
      "outputs": [
        {
          "output_type": "stream",
          "name": "stdout",
          "text": [
            "long_text_compressed 16\n"
          ]
        }
      ]
    },
    {
      "cell_type": "code",
      "source": [
        "print('Compressed', long_text_compressed)\n",
        "print('MyCompressed', var_out)\n",
        "len(bytes(var_out, encoding = \"utf-8\"))"
      ],
      "metadata": {
        "colab": {
          "base_uri": "https://localhost:8080/"
        },
        "id": "EOWO2ZKnPlzC",
        "outputId": "c66e5648-aa94-4424-e0ba-e798ca0d356f"
      },
      "execution_count": 62,
      "outputs": [
        {
          "output_type": "stream",
          "name": "stdout",
          "text": [
            "Compressed b'x\\x9c304\\x80\\xc3\\x8c\\xd4\\x9c\\x1c\\x00\\x1b\\xff\\x03\\xec'\n",
            "MyCompressed ന헷𒥦黛쟨𑿥\n"
          ]
        },
        {
          "output_type": "execute_result",
          "data": {
            "text/plain": [
              "26"
            ]
          },
          "metadata": {},
          "execution_count": 62
        }
      ]
    },
    {
      "cell_type": "code",
      "source": [
        "var_in.encode('utf-8')\n",
        "var_out.encode('utf-8')\n",
        "print(len(var_in))\n",
        "print(len(bytes(var_out, encoding = \"utf-8\")))\n",
        "print(len(long_text_compressed))"
      ],
      "metadata": {
        "colab": {
          "base_uri": "https://localhost:8080/"
        },
        "id": "OHOqmvSTSlww",
        "outputId": "1f05b574-45de-44ae-9db3-8edbcded2256"
      },
      "execution_count": 69,
      "outputs": [
        {
          "output_type": "stream",
          "name": "stdout",
          "text": [
            "64\n",
            "26\n",
            "16\n"
          ]
        }
      ]
    }
  ]
}