{
  "nbformat": 4,
  "nbformat_minor": 0,
  "metadata": {
    "colab": {
      "name": "logger.ipynb",
      "provenance": [],
      "collapsed_sections": [],
      "authorship_tag": "ABX9TyNkGmd3v9ASr6lfTneAt/av",
      "include_colab_link": true
    },
    "kernelspec": {
      "name": "python3",
      "display_name": "Python 3"
    },
    "language_info": {
      "name": "python"
    }
  },
  "cells": [
    {
      "cell_type": "markdown",
      "metadata": {
        "id": "view-in-github",
        "colab_type": "text"
      },
      "source": [
        "<a href=\"https://colab.research.google.com/github/aiooq/Files/blob/master/logger.ipynb\" target=\"_parent\"><img src=\"https://colab.research.google.com/assets/colab-badge.svg\" alt=\"Open In Colab\"/></a>"
      ]
    },
    {
      "cell_type": "markdown",
      "source": [
        "ООП дробление (Program, Logger, Event, File) на основе семантических связей.\n",
        "\n",
        "Семантические связи:\n",
        "+ Program -> использует -> Logger\n",
        "++ Logger -> содержит -> Event\n",
        "++ Logger -> использует -> File\n",
        "\t\t\n",
        "Такой подход позволяет: \n",
        "+ Логировать исключения возникающие внутри Program;\n",
        "+ Запоминать целиком последнее событие;\n",
        "+ Гибкое и быстрое расширение возможностей;\n",
        "> (например можно сделать функцию парсинга события из файла внутри класса Event и др.)\n",
        "+ Исключено дублирование кода;\n",
        "+ Повышается читаемость.\n",
        "\n",
        "Имена функций классов в новом виде содержат функциональный смысл (на мой взгляд) и изящно выглядят в коде.\n",
        "\n",
        "Благодаря имени файла в таком формате: 2022.08.31.log\n",
        "1. Файлы в каталоге удобно сортировать по году, месяцу и дню\n",
        "2. Расширение используется по назначению\n",
        "3. Легко делать поиск *.log"
      ],
      "metadata": {
        "id": "XDYfTyM_mqjb"
      }
    },
    {
      "cell_type": "code",
      "source": [
        "import os, fnmatch, traceback\n",
        "from datetime import datetime"
      ],
      "metadata": {
        "id": "PSFaXRfSlQ32"
      },
      "execution_count": 53,
      "outputs": []
    },
    {
      "cell_type": "code",
      "source": [
        "class File():\n",
        "    def __init__(self, file, encoding='UTF-8'):\n",
        "        self.file = file\n",
        "        self.encoding = encoding\n",
        "\n",
        "    def __open(self, mode):\n",
        "        return open(self.file, mode, encoding = self.encoding)\n",
        "\n",
        "    def writeline(self, text):\n",
        "        with self.__open('a') as f:\n",
        "            f.write(text + '\\n')\n",
        "\n",
        "    def readlines(self):\n",
        "        with self.__open('r') as f:\n",
        "            return f.readlines()\n",
        "\n",
        "    def clear(self):\n",
        "        with open(self.file, \"w\") as f: \n",
        "            f.close()"
      ],
      "metadata": {
        "id": "YkWvhvr2xs0N"
      },
      "execution_count": 54,
      "outputs": []
    },
    {
      "cell_type": "code",
      "source": [
        "class Event():\n",
        "    def __init__(self, mode = 'info', text = 'init'):\n",
        "        self.mode = mode\n",
        "        self.text = text\n",
        "        self.time = datetime.now()\n",
        "\n",
        "    def __call__(self) -> str:\n",
        "        return f\"[{self.time.strftime('%H:%M:%S')}] \\t{self.mode} \\t{self.text}\""
      ],
      "metadata": {
        "id": "5nuW_5qW00Vv"
      },
      "execution_count": 42,
      "outputs": []
    },
    {
      "cell_type": "code",
      "source": [
        "class Logger(object):\n",
        "    def __new__(cls, *args, **kwargs):\n",
        "        if not hasattr(cls, 'instance'):\n",
        "            cls.instance = super(Logger, cls).__new__(cls)\n",
        "        return cls.instance\n",
        "\n",
        "    def __init__(self, path='.'):\n",
        "        self.path = path\n",
        "        Logger.__create_path(path)\n",
        "        self.write('info', 'init')\n",
        "\n",
        "    def __call__(self):\n",
        "        for item in self.get_current_events():\n",
        "            print(item, sep='', end='')\n",
        "\n",
        "    # не используется\n",
        "    @staticmethod\n",
        "    def __get_time():\n",
        "        return datetime.now()\n",
        "\n",
        "    @staticmethod\n",
        "    def __create_path(path):\n",
        "        try:\n",
        "            os.stat(path)\n",
        "        except FileNotFoundError:\n",
        "            os.mkdir(path)\n",
        "\n",
        "    def __get_path(self, time = datetime.now(), prefix = None):\n",
        "        return f\"{self.path}/{time.strftime('%Y.%m.%d')}.log\"\n",
        "\n",
        "    def write(self, mode, text): # вместо write_log\n",
        "        self.event = Event(mode, text)\n",
        "        File(self.__get_path(self.event.time)).writeline(self.event())\n",
        "\n",
        "    def clear(self): # вместо clear_log\n",
        "        File(self.__get_path()).clear()   \n",
        "\n",
        "    def get_current_events(self): # вместо get_logs\n",
        "        return File(self.__get_path()).readlines()\n",
        "\n",
        "    def get_last_event(self):\n",
        "        return self.event()\n",
        "\n",
        "    def get_filenames(self): # вместо get_all_logs\n",
        "        files = os.listdir(self.path)\n",
        "        log_files = [file for file in files \n",
        "                     if fnmatch.fnmatch(file, \"????.??.??.log\")]\n",
        "        return log_files"
      ],
      "metadata": {
        "id": "Xiq3IRgwlHL5"
      },
      "execution_count": 46,
      "outputs": []
    },
    {
      "cell_type": "code",
      "source": [
        "class Loggers(Logger):\n",
        "    pass"
      ],
      "metadata": {
        "id": "kW9TbkD9aoT5"
      },
      "execution_count": 57,
      "outputs": []
    },
    {
      "cell_type": "code",
      "source": [
        "class Program():\n",
        "    def __init__(self):\n",
        "        self.log = Logger()\n",
        "        self.event_to_logs = Logger('./logs')\n",
        "\n",
        "    def __call__(self):\n",
        "        self.log.write('info','start')\n",
        "        self.log.write('info','end')\n",
        "\n",
        "        print('Выводим список лога')\n",
        "        print(self.log.get_current_events())\n",
        "\n",
        "        print('Печать лога')\n",
        "        self.log()\n",
        "\n",
        "        print('Чистим лог')\n",
        "        self.log.clear()\n",
        "\n",
        "        print('Выводим последнее событие')\n",
        "        print(self.log.get_last_event())\n",
        "\n",
        "        print('Выводим список файлов лога')\n",
        "        print(self.log.get_filenames())\n",
        "        print('Проверка шаблона Singleton')\n",
        "        print(\"Object created [log]\", self.log)\n",
        "        print(self.log.path)\n",
        "\n",
        "        print(\"Object created [event_to_logs]\", self.event_to_logs)\n",
        "        print(self.event_to_logs.path)\n",
        "\n",
        "    def deinit(self, mode = 'info', text = 'exit'):\n",
        "        self.log.write(mode,text)"
      ],
      "metadata": {
        "id": "1sny0n5fPFTf"
      },
      "execution_count": 50,
      "outputs": []
    },
    {
      "cell_type": "code",
      "execution_count": null,
      "metadata": {
        "id": "Htd5lgkUklrt"
      },
      "outputs": [],
      "source": [
        "if __name__ == '__main__':\n",
        "    prog = Program()\n",
        "    try:\n",
        "        prog();\n",
        "        #raise 'err'\n",
        "    except Exception as err:\n",
        "        prog.deinit('error',traceback.format_exc())\n",
        "    finally:\n",
        "        prog.deinit()\n",
        "        del prog"
      ]
    }
  ]
}